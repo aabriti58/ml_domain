{
 "cells": [
  {
   "cell_type": "code",
   "execution_count": 1,
   "id": "celtic-height",
   "metadata": {
    "_cell_guid": "b1076dfc-b9ad-4769-8c92-a6c4dae69d19",
    "_uuid": "8f2839f25d086af736a60e9eeb907d3b93b6e0e5",
    "execution": {
     "iopub.execute_input": "2021-04-17T15:51:11.451724Z",
     "iopub.status.busy": "2021-04-17T15:51:11.451168Z",
     "iopub.status.idle": "2021-04-17T15:51:12.342215Z",
     "shell.execute_reply": "2021-04-17T15:51:12.342824Z"
    },
    "papermill": {
     "duration": 0.917216,
     "end_time": "2021-04-17T15:51:12.343137",
     "exception": false,
     "start_time": "2021-04-17T15:51:11.425921",
     "status": "completed"
    },
    "tags": []
   },
   "outputs": [],
   "source": [
    "import numpy as np\n",
    "import pandas as pd\n",
    "import matplotlib.pyplot as plt\n",
    "import seaborn as sns"
   ]
  },
  {
   "cell_type": "code",
   "execution_count": 2,
   "id": "manual-giant",
   "metadata": {
    "execution": {
     "iopub.execute_input": "2021-04-17T15:51:12.381230Z",
     "iopub.status.busy": "2021-04-17T15:51:12.380634Z",
     "iopub.status.idle": "2021-04-17T15:51:12.499338Z",
     "shell.execute_reply": "2021-04-17T15:51:12.499825Z"
    },
    "papermill": {
     "duration": 0.139172,
     "end_time": "2021-04-17T15:51:12.499996",
     "exception": false,
     "start_time": "2021-04-17T15:51:12.360824",
     "status": "completed"
    },
    "tags": []
   },
   "outputs": [
    {
     "data": {
      "text/html": [
       "<div>\n",
       "<style scoped>\n",
       "    .dataframe tbody tr th:only-of-type {\n",
       "        vertical-align: middle;\n",
       "    }\n",
       "\n",
       "    .dataframe tbody tr th {\n",
       "        vertical-align: top;\n",
       "    }\n",
       "\n",
       "    .dataframe thead th {\n",
       "        text-align: right;\n",
       "    }\n",
       "</style>\n",
       "<table border=\"1\" class=\"dataframe\">\n",
       "  <thead>\n",
       "    <tr style=\"text-align: right;\">\n",
       "      <th></th>\n",
       "      <th>Id</th>\n",
       "      <th>SepalLengthCm</th>\n",
       "      <th>SepalWidthCm</th>\n",
       "      <th>PetalLengthCm</th>\n",
       "      <th>PetalWidthCm</th>\n",
       "      <th>Species</th>\n",
       "    </tr>\n",
       "  </thead>\n",
       "  <tbody>\n",
       "    <tr>\n",
       "      <th>0</th>\n",
       "      <td>1</td>\n",
       "      <td>5.1</td>\n",
       "      <td>3.5</td>\n",
       "      <td>1.4</td>\n",
       "      <td>0.2</td>\n",
       "      <td>Iris-setosa</td>\n",
       "    </tr>\n",
       "    <tr>\n",
       "      <th>1</th>\n",
       "      <td>2</td>\n",
       "      <td>4.9</td>\n",
       "      <td>3.0</td>\n",
       "      <td>1.4</td>\n",
       "      <td>0.2</td>\n",
       "      <td>Iris-setosa</td>\n",
       "    </tr>\n",
       "    <tr>\n",
       "      <th>2</th>\n",
       "      <td>3</td>\n",
       "      <td>4.7</td>\n",
       "      <td>3.2</td>\n",
       "      <td>1.3</td>\n",
       "      <td>0.2</td>\n",
       "      <td>Iris-setosa</td>\n",
       "    </tr>\n",
       "    <tr>\n",
       "      <th>3</th>\n",
       "      <td>4</td>\n",
       "      <td>4.6</td>\n",
       "      <td>3.1</td>\n",
       "      <td>1.5</td>\n",
       "      <td>0.2</td>\n",
       "      <td>Iris-setosa</td>\n",
       "    </tr>\n",
       "    <tr>\n",
       "      <th>4</th>\n",
       "      <td>5</td>\n",
       "      <td>5.0</td>\n",
       "      <td>3.6</td>\n",
       "      <td>1.4</td>\n",
       "      <td>0.2</td>\n",
       "      <td>Iris-setosa</td>\n",
       "    </tr>\n",
       "  </tbody>\n",
       "</table>\n",
       "</div>"
      ],
      "text/plain": [
       "   Id  SepalLengthCm  SepalWidthCm  PetalLengthCm  PetalWidthCm      Species\n",
       "0   1            5.1           3.5            1.4           0.2  Iris-setosa\n",
       "1   2            4.9           3.0            1.4           0.2  Iris-setosa\n",
       "2   3            4.7           3.2            1.3           0.2  Iris-setosa\n",
       "3   4            4.6           3.1            1.5           0.2  Iris-setosa\n",
       "4   5            5.0           3.6            1.4           0.2  Iris-setosa"
      ]
     },
     "execution_count": 2,
     "metadata": {},
     "output_type": "execute_result"
    }
   ],
   "source": [
    "df = pd.read_csv('../input/iris/Iris.csv')\n",
    "df.head()"
   ]
  },
  {
   "cell_type": "code",
   "execution_count": 3,
   "id": "flexible-hundred",
   "metadata": {
    "execution": {
     "iopub.execute_input": "2021-04-17T15:51:12.539293Z",
     "iopub.status.busy": "2021-04-17T15:51:12.538709Z",
     "iopub.status.idle": "2021-04-17T15:51:12.551982Z",
     "shell.execute_reply": "2021-04-17T15:51:12.551474Z"
    },
    "papermill": {
     "duration": 0.033861,
     "end_time": "2021-04-17T15:51:12.552125",
     "exception": false,
     "start_time": "2021-04-17T15:51:12.518264",
     "status": "completed"
    },
    "tags": []
   },
   "outputs": [
    {
     "data": {
      "text/html": [
       "<div>\n",
       "<style scoped>\n",
       "    .dataframe tbody tr th:only-of-type {\n",
       "        vertical-align: middle;\n",
       "    }\n",
       "\n",
       "    .dataframe tbody tr th {\n",
       "        vertical-align: top;\n",
       "    }\n",
       "\n",
       "    .dataframe thead th {\n",
       "        text-align: right;\n",
       "    }\n",
       "</style>\n",
       "<table border=\"1\" class=\"dataframe\">\n",
       "  <thead>\n",
       "    <tr style=\"text-align: right;\">\n",
       "      <th></th>\n",
       "      <th>SepalLengthCm</th>\n",
       "      <th>SepalWidthCm</th>\n",
       "      <th>PetalLengthCm</th>\n",
       "      <th>PetalWidthCm</th>\n",
       "      <th>Species</th>\n",
       "    </tr>\n",
       "  </thead>\n",
       "  <tbody>\n",
       "    <tr>\n",
       "      <th>0</th>\n",
       "      <td>5.1</td>\n",
       "      <td>3.5</td>\n",
       "      <td>1.4</td>\n",
       "      <td>0.2</td>\n",
       "      <td>Iris-setosa</td>\n",
       "    </tr>\n",
       "    <tr>\n",
       "      <th>1</th>\n",
       "      <td>4.9</td>\n",
       "      <td>3.0</td>\n",
       "      <td>1.4</td>\n",
       "      <td>0.2</td>\n",
       "      <td>Iris-setosa</td>\n",
       "    </tr>\n",
       "    <tr>\n",
       "      <th>2</th>\n",
       "      <td>4.7</td>\n",
       "      <td>3.2</td>\n",
       "      <td>1.3</td>\n",
       "      <td>0.2</td>\n",
       "      <td>Iris-setosa</td>\n",
       "    </tr>\n",
       "    <tr>\n",
       "      <th>3</th>\n",
       "      <td>4.6</td>\n",
       "      <td>3.1</td>\n",
       "      <td>1.5</td>\n",
       "      <td>0.2</td>\n",
       "      <td>Iris-setosa</td>\n",
       "    </tr>\n",
       "    <tr>\n",
       "      <th>4</th>\n",
       "      <td>5.0</td>\n",
       "      <td>3.6</td>\n",
       "      <td>1.4</td>\n",
       "      <td>0.2</td>\n",
       "      <td>Iris-setosa</td>\n",
       "    </tr>\n",
       "  </tbody>\n",
       "</table>\n",
       "</div>"
      ],
      "text/plain": [
       "   SepalLengthCm  SepalWidthCm  PetalLengthCm  PetalWidthCm      Species\n",
       "0            5.1           3.5            1.4           0.2  Iris-setosa\n",
       "1            4.9           3.0            1.4           0.2  Iris-setosa\n",
       "2            4.7           3.2            1.3           0.2  Iris-setosa\n",
       "3            4.6           3.1            1.5           0.2  Iris-setosa\n",
       "4            5.0           3.6            1.4           0.2  Iris-setosa"
      ]
     },
     "execution_count": 3,
     "metadata": {},
     "output_type": "execute_result"
    }
   ],
   "source": [
    "#delete a column\n",
    "df = df.drop(columns=['Id'])\n",
    "df.head()"
   ]
  },
  {
   "cell_type": "code",
   "execution_count": 4,
   "id": "rural-decimal",
   "metadata": {
    "execution": {
     "iopub.execute_input": "2021-04-17T15:51:12.593684Z",
     "iopub.status.busy": "2021-04-17T15:51:12.593067Z",
     "iopub.status.idle": "2021-04-17T15:51:12.617513Z",
     "shell.execute_reply": "2021-04-17T15:51:12.617973Z"
    },
    "papermill": {
     "duration": 0.046103,
     "end_time": "2021-04-17T15:51:12.618138",
     "exception": false,
     "start_time": "2021-04-17T15:51:12.572035",
     "status": "completed"
    },
    "tags": []
   },
   "outputs": [
    {
     "data": {
      "text/html": [
       "<div>\n",
       "<style scoped>\n",
       "    .dataframe tbody tr th:only-of-type {\n",
       "        vertical-align: middle;\n",
       "    }\n",
       "\n",
       "    .dataframe tbody tr th {\n",
       "        vertical-align: top;\n",
       "    }\n",
       "\n",
       "    .dataframe thead th {\n",
       "        text-align: right;\n",
       "    }\n",
       "</style>\n",
       "<table border=\"1\" class=\"dataframe\">\n",
       "  <thead>\n",
       "    <tr style=\"text-align: right;\">\n",
       "      <th></th>\n",
       "      <th>SepalLengthCm</th>\n",
       "      <th>SepalWidthCm</th>\n",
       "      <th>PetalLengthCm</th>\n",
       "      <th>PetalWidthCm</th>\n",
       "    </tr>\n",
       "  </thead>\n",
       "  <tbody>\n",
       "    <tr>\n",
       "      <th>count</th>\n",
       "      <td>150.000000</td>\n",
       "      <td>150.000000</td>\n",
       "      <td>150.000000</td>\n",
       "      <td>150.000000</td>\n",
       "    </tr>\n",
       "    <tr>\n",
       "      <th>mean</th>\n",
       "      <td>5.843333</td>\n",
       "      <td>3.054000</td>\n",
       "      <td>3.758667</td>\n",
       "      <td>1.198667</td>\n",
       "    </tr>\n",
       "    <tr>\n",
       "      <th>std</th>\n",
       "      <td>0.828066</td>\n",
       "      <td>0.433594</td>\n",
       "      <td>1.764420</td>\n",
       "      <td>0.763161</td>\n",
       "    </tr>\n",
       "    <tr>\n",
       "      <th>min</th>\n",
       "      <td>4.300000</td>\n",
       "      <td>2.000000</td>\n",
       "      <td>1.000000</td>\n",
       "      <td>0.100000</td>\n",
       "    </tr>\n",
       "    <tr>\n",
       "      <th>25%</th>\n",
       "      <td>5.100000</td>\n",
       "      <td>2.800000</td>\n",
       "      <td>1.600000</td>\n",
       "      <td>0.300000</td>\n",
       "    </tr>\n",
       "    <tr>\n",
       "      <th>50%</th>\n",
       "      <td>5.800000</td>\n",
       "      <td>3.000000</td>\n",
       "      <td>4.350000</td>\n",
       "      <td>1.300000</td>\n",
       "    </tr>\n",
       "    <tr>\n",
       "      <th>75%</th>\n",
       "      <td>6.400000</td>\n",
       "      <td>3.300000</td>\n",
       "      <td>5.100000</td>\n",
       "      <td>1.800000</td>\n",
       "    </tr>\n",
       "    <tr>\n",
       "      <th>max</th>\n",
       "      <td>7.900000</td>\n",
       "      <td>4.400000</td>\n",
       "      <td>6.900000</td>\n",
       "      <td>2.500000</td>\n",
       "    </tr>\n",
       "  </tbody>\n",
       "</table>\n",
       "</div>"
      ],
      "text/plain": [
       "       SepalLengthCm  SepalWidthCm  PetalLengthCm  PetalWidthCm\n",
       "count     150.000000    150.000000     150.000000    150.000000\n",
       "mean        5.843333      3.054000       3.758667      1.198667\n",
       "std         0.828066      0.433594       1.764420      0.763161\n",
       "min         4.300000      2.000000       1.000000      0.100000\n",
       "25%         5.100000      2.800000       1.600000      0.300000\n",
       "50%         5.800000      3.000000       4.350000      1.300000\n",
       "75%         6.400000      3.300000       5.100000      1.800000\n",
       "max         7.900000      4.400000       6.900000      2.500000"
      ]
     },
     "execution_count": 4,
     "metadata": {},
     "output_type": "execute_result"
    }
   ],
   "source": [
    "#display stats about data\n",
    "df.describe()"
   ]
  },
  {
   "cell_type": "code",
   "execution_count": 5,
   "id": "tested-twist",
   "metadata": {
    "execution": {
     "iopub.execute_input": "2021-04-17T15:51:12.661504Z",
     "iopub.status.busy": "2021-04-17T15:51:12.660920Z",
     "iopub.status.idle": "2021-04-17T15:51:12.675550Z",
     "shell.execute_reply": "2021-04-17T15:51:12.676006Z"
    },
    "papermill": {
     "duration": 0.039248,
     "end_time": "2021-04-17T15:51:12.676168",
     "exception": false,
     "start_time": "2021-04-17T15:51:12.636920",
     "status": "completed"
    },
    "tags": []
   },
   "outputs": [
    {
     "name": "stdout",
     "output_type": "stream",
     "text": [
      "<class 'pandas.core.frame.DataFrame'>\n",
      "RangeIndex: 150 entries, 0 to 149\n",
      "Data columns (total 5 columns):\n",
      " #   Column         Non-Null Count  Dtype  \n",
      "---  ------         --------------  -----  \n",
      " 0   SepalLengthCm  150 non-null    float64\n",
      " 1   SepalWidthCm   150 non-null    float64\n",
      " 2   PetalLengthCm  150 non-null    float64\n",
      " 3   PetalWidthCm   150 non-null    float64\n",
      " 4   Species        150 non-null    object \n",
      "dtypes: float64(4), object(1)\n",
      "memory usage: 6.0+ KB\n"
     ]
    }
   ],
   "source": [
    "#basic info about data\n",
    "df.info()\n"
   ]
  },
  {
   "cell_type": "code",
   "execution_count": 6,
   "id": "wrapped-denver",
   "metadata": {
    "execution": {
     "iopub.execute_input": "2021-04-17T15:51:12.721435Z",
     "iopub.status.busy": "2021-04-17T15:51:12.720869Z",
     "iopub.status.idle": "2021-04-17T15:51:12.724863Z",
     "shell.execute_reply": "2021-04-17T15:51:12.724396Z"
    },
    "papermill": {
     "duration": 0.029145,
     "end_time": "2021-04-17T15:51:12.725001",
     "exception": false,
     "start_time": "2021-04-17T15:51:12.695856",
     "status": "completed"
    },
    "tags": []
   },
   "outputs": [
    {
     "data": {
      "text/plain": [
       "Iris-versicolor    50\n",
       "Iris-setosa        50\n",
       "Iris-virginica     50\n",
       "Name: Species, dtype: int64"
      ]
     },
     "execution_count": 6,
     "metadata": {},
     "output_type": "execute_result"
    }
   ],
   "source": [
    "#display no. of samples on each class\n",
    "df['Species'].value_counts()"
   ]
  },
  {
   "cell_type": "markdown",
   "id": "stunning-words",
   "metadata": {
    "papermill": {
     "duration": 0.019461,
     "end_time": "2021-04-17T15:51:12.764142",
     "exception": false,
     "start_time": "2021-04-17T15:51:12.744681",
     "status": "completed"
    },
    "tags": []
   },
   "source": [
    "  **Preprocessing the dataset**"
   ]
  },
  {
   "cell_type": "code",
   "execution_count": 7,
   "id": "thermal-tissue",
   "metadata": {
    "execution": {
     "iopub.execute_input": "2021-04-17T15:51:12.810618Z",
     "iopub.status.busy": "2021-04-17T15:51:12.810042Z",
     "iopub.status.idle": "2021-04-17T15:51:12.814033Z",
     "shell.execute_reply": "2021-04-17T15:51:12.813461Z"
    },
    "papermill": {
     "duration": 0.030039,
     "end_time": "2021-04-17T15:51:12.814171",
     "exception": false,
     "start_time": "2021-04-17T15:51:12.784132",
     "status": "completed"
    },
    "tags": []
   },
   "outputs": [
    {
     "data": {
      "text/plain": [
       "SepalLengthCm    0\n",
       "SepalWidthCm     0\n",
       "PetalLengthCm    0\n",
       "PetalWidthCm     0\n",
       "Species          0\n",
       "dtype: int64"
      ]
     },
     "execution_count": 7,
     "metadata": {},
     "output_type": "execute_result"
    }
   ],
   "source": [
    "#check for null values\n",
    "df.isnull().sum()"
   ]
  },
  {
   "cell_type": "markdown",
   "id": "criminal-investment",
   "metadata": {
    "papermill": {
     "duration": 0.019302,
     "end_time": "2021-04-17T15:51:12.853213",
     "exception": false,
     "start_time": "2021-04-17T15:51:12.833911",
     "status": "completed"
    },
    "tags": []
   },
   "source": [
    "**Exploratory Data Analysis**"
   ]
  },
  {
   "cell_type": "code",
   "execution_count": 8,
   "id": "compressed-brighton",
   "metadata": {
    "execution": {
     "iopub.execute_input": "2021-04-17T15:51:12.895446Z",
     "iopub.status.busy": "2021-04-17T15:51:12.894911Z",
     "iopub.status.idle": "2021-04-17T15:51:13.085304Z",
     "shell.execute_reply": "2021-04-17T15:51:13.085746Z"
    },
    "papermill": {
     "duration": 0.213058,
     "end_time": "2021-04-17T15:51:13.085925",
     "exception": false,
     "start_time": "2021-04-17T15:51:12.872867",
     "status": "completed"
    },
    "tags": []
   },
   "outputs": [
    {
     "data": {
      "text/plain": [
       "<AxesSubplot:>"
      ]
     },
     "execution_count": 8,
     "metadata": {},
     "output_type": "execute_result"
    },
    {
     "data": {
      "image/png": "[encoded data removed]",
      "text/plain": [
       "<Figure size 432x288 with 1 Axes>"
      ]
     },
     "metadata": {
      "needs_background": "light"
     },
     "output_type": "display_data"
    }
   ],
   "source": [
    "df['SepalLengthCm'].hist()"
   ]
  },
  {
   "cell_type": "code",
   "execution_count": 9,
   "id": "marine-coaching",
   "metadata": {
    "execution": {
     "iopub.execute_input": "2021-04-17T15:51:13.131036Z",
     "iopub.status.busy": "2021-04-17T15:51:13.130442Z",
     "iopub.status.idle": "2021-04-17T15:51:13.272029Z",
     "shell.execute_reply": "2021-04-17T15:51:13.271544Z"
    },
    "papermill": {
     "duration": 0.165061,
     "end_time": "2021-04-17T15:51:13.272177",
     "exception": false,
     "start_time": "2021-04-17T15:51:13.107116",
     "status": "completed"
    },
    "tags": []
   },
   "outputs": [
    {
     "data": {
      "text/plain": [
       "<AxesSubplot:>"
      ]
     },
     "execution_count": 9,
     "metadata": {},
     "output_type": "execute_result"
    },
    {
     "data": {
      "image/png": "[encoded data removed]",
      "text/plain": [
       "<Figure size 432x288 with 1 Axes>"
      ]
     },
     "metadata": {
      "needs_background": "light"
     },
     "output_type": "display_data"
    }
   ],
   "source": [
    "df['SepalWidthCm'].hist()"
   ]
  },
  {
   "cell_type": "markdown",
   "id": "simple-newark",
   "metadata": {
    "papermill": {
     "duration": 0.021866,
     "end_time": "2021-04-17T15:51:13.315864",
     "exception": false,
     "start_time": "2021-04-17T15:51:13.293998",
     "status": "completed"
    },
    "tags": []
   },
   "source": []
  },
  {
   "cell_type": "code",
   "execution_count": 10,
   "id": "cosmetic-palestine",
   "metadata": {
    "execution": {
     "iopub.execute_input": "2021-04-17T15:51:13.376403Z",
     "iopub.status.busy": "2021-04-17T15:51:13.375786Z",
     "iopub.status.idle": "2021-04-17T15:51:13.511003Z",
     "shell.execute_reply": "2021-04-17T15:51:13.510494Z"
    },
    "papermill": {
     "duration": 0.17375,
     "end_time": "2021-04-17T15:51:13.511150",
     "exception": false,
     "start_time": "2021-04-17T15:51:13.337400",
     "status": "completed"
    },
    "tags": []
   },
   "outputs": [
    {
     "data": {
      "text/plain": [
       "<AxesSubplot:>"
      ]
     },
     "execution_count": 10,
     "metadata": {},
     "output_type": "execute_result"
    },
    {
     "data": {
      "image/png": "[encoded data removed]",
      "text/plain": [
       "<Figure size 432x288 with 1 Axes>"
      ]
     },
     "metadata": {
      "needs_background": "light"
     },
     "output_type": "display_data"
    }
   ],
   "source": [
    "df['PetalLengthCm'].hist()"
   ]
  },
  {
   "cell_type": "code",
   "execution_count": 11,
   "id": "filled-guide",
   "metadata": {
    "execution": {
     "iopub.execute_input": "2021-04-17T15:51:13.583069Z",
     "iopub.status.busy": "2021-04-17T15:51:13.581403Z",
     "iopub.status.idle": "2021-04-17T15:51:13.716835Z",
     "shell.execute_reply": "2021-04-17T15:51:13.716215Z"
    },
    "papermill": {
     "duration": 0.183538,
     "end_time": "2021-04-17T15:51:13.716977",
     "exception": false,
     "start_time": "2021-04-17T15:51:13.533439",
     "status": "completed"
    },
    "tags": []
   },
   "outputs": [
    {
     "data": {
      "text/plain": [
       "<AxesSubplot:>"
      ]
     },
     "execution_count": 11,
     "metadata": {},
     "output_type": "execute_result"
    },
    {
     "data": {
      "image/png": "[encoded data removed]",
      "text/plain": [
       "<Figure size 432x288 with 1 Axes>"
      ]
     },
     "metadata": {
      "needs_background": "light"
     },
     "output_type": "display_data"
    }
   ],
   "source": [
    "\n",
    "df['PetalWidthCm'].hist()"
   ]
  },
  {
   "cell_type": "code",
   "execution_count": 12,
   "id": "considerable-division",
   "metadata": {
    "execution": {
     "iopub.execute_input": "2021-04-17T15:51:13.769551Z",
     "iopub.status.busy": "2021-04-17T15:51:13.768959Z",
     "iopub.status.idle": "2021-04-17T15:51:13.772157Z",
     "shell.execute_reply": "2021-04-17T15:51:13.771562Z"
    },
    "papermill": {
     "duration": 0.032225,
     "end_time": "2021-04-17T15:51:13.772291",
     "exception": false,
     "start_time": "2021-04-17T15:51:13.740066",
     "status": "completed"
    },
    "tags": []
   },
   "outputs": [],
   "source": [
    "#scatter plot \n",
    "colors = ['red','orange','blue']\n",
    "species = ['Iris-virginica','Iris-versicolor','Iris-setosa']"
   ]
  },
  {
   "cell_type": "code",
   "execution_count": 13,
   "id": "lined-cocktail",
   "metadata": {
    "execution": {
     "iopub.execute_input": "2021-04-17T15:51:13.880619Z",
     "iopub.status.busy": "2021-04-17T15:51:13.879749Z",
     "iopub.status.idle": "2021-04-17T15:51:14.044029Z",
     "shell.execute_reply": "2021-04-17T15:51:14.044438Z"
    },
    "papermill": {
     "duration": 0.248781,
     "end_time": "2021-04-17T15:51:14.044607",
     "exception": false,
     "start_time": "2021-04-17T15:51:13.795826",
     "status": "completed"
    },
    "tags": []
   },
   "outputs": [
    {
     "data": {
      "image/png": "[encoded data removed]",
      "text/plain": [
       "<Figure size 432x288 with 1 Axes>"
      ]
     },
     "metadata": {
      "needs_background": "light"
     },
     "output_type": "display_data"
    }
   ],
   "source": [
    "for i in range(3):\n",
    "    x = df[df['Species']==species[i]]\n",
    "    plt.scatter(x['SepalLengthCm'],x['SepalWidthCm'],c=colors[i],label=species[i])\n",
    "    plt.xlabel(\"Sepal Length\")\n",
    "    plt.ylabel(\"Sepal Width\")   \n",
    "    plt.legend()"
   ]
  },
  {
   "cell_type": "code",
   "execution_count": 14,
   "id": "massive-sandwich",
   "metadata": {
    "execution": {
     "iopub.execute_input": "2021-04-17T15:51:14.126990Z",
     "iopub.status.busy": "2021-04-17T15:51:14.126362Z",
     "iopub.status.idle": "2021-04-17T15:51:14.313373Z",
     "shell.execute_reply": "2021-04-17T15:51:14.312861Z"
    },
    "papermill": {
     "duration": 0.244501,
     "end_time": "2021-04-17T15:51:14.313505",
     "exception": false,
     "start_time": "2021-04-17T15:51:14.069004",
     "status": "completed"
    },
    "tags": []
   },
   "outputs": [
    {
     "data": {
      "text/plain": [
       "<matplotlib.legend.Legend at 0x7fcb5f001890>"
      ]
     },
     "execution_count": 14,
     "metadata": {},
     "output_type": "execute_result"
    },
    {
     "data": {
      "image/png": "[encoded data removed]",
      "text/plain": [
       "<Figure size 432x288 with 1 Axes>"
      ]
     },
     "metadata": {
      "needs_background": "light"
     },
     "output_type": "display_data"
    }
   ],
   "source": [
    "for i in range(3):\n",
    "    x = df[df['Species'] == species[i]]\n",
    "    plt.scatter(x['PetalLengthCm'], x['PetalWidthCm'], c = colors[i], label=species[i])\n",
    "plt.xlabel(\"Petal Length\")\n",
    "plt.ylabel(\"Petal Width\")\n",
    "plt.legend()"
   ]
  },
  {
   "cell_type": "code",
   "execution_count": 15,
   "id": "piano-necklace",
   "metadata": {
    "execution": {
     "iopub.execute_input": "2021-04-17T15:51:14.385902Z",
     "iopub.status.busy": "2021-04-17T15:51:14.380778Z",
     "iopub.status.idle": "2021-04-17T15:51:14.578869Z",
     "shell.execute_reply": "2021-04-17T15:51:14.578366Z"
    },
    "papermill": {
     "duration": 0.239709,
     "end_time": "2021-04-17T15:51:14.579006",
     "exception": false,
     "start_time": "2021-04-17T15:51:14.339297",
     "status": "completed"
    },
    "tags": []
   },
   "outputs": [
    {
     "data": {
      "text/plain": [
       "<matplotlib.legend.Legend at 0x7fcb31bfbfd0>"
      ]
     },
     "execution_count": 15,
     "metadata": {},
     "output_type": "execute_result"
    },
    {
     "data": {
      "image/png": "[encoded data removed]",
      "text/plain": [
       "<Figure size 432x288 with 1 Axes>"
      ]
     },
     "metadata": {
      "needs_background": "light"
     },
     "output_type": "display_data"
    }
   ],
   "source": [
    "for i in range(3):\n",
    "    x = df[df['Species'] == species[i]]\n",
    "    plt.scatter(x['SepalLengthCm'], x['PetalLengthCm'], c = colors[i], label=species[i])\n",
    "plt.xlabel(\"Sepal Length\")\n",
    "plt.ylabel(\"Petal Length\")\n",
    "plt.legend()"
   ]
  },
  {
   "cell_type": "code",
   "execution_count": 16,
   "id": "valued-lemon",
   "metadata": {
    "execution": {
     "iopub.execute_input": "2021-04-17T15:51:14.659083Z",
     "iopub.status.busy": "2021-04-17T15:51:14.653251Z",
     "iopub.status.idle": "2021-04-17T15:51:14.838125Z",
     "shell.execute_reply": "2021-04-17T15:51:14.837559Z"
    },
    "papermill": {
     "duration": 0.233216,
     "end_time": "2021-04-17T15:51:14.838270",
     "exception": false,
     "start_time": "2021-04-17T15:51:14.605054",
     "status": "completed"
    },
    "tags": []
   },
   "outputs": [
    {
     "data": {
      "text/plain": [
       "<matplotlib.legend.Legend at 0x7fcb31c57310>"
      ]
     },
     "execution_count": 16,
     "metadata": {},
     "output_type": "execute_result"
    },
    {
     "data": {
      "image/png": "[encoded data removed]",
      "text/plain": [
       "<Figure size 432x288 with 1 Axes>"
      ]
     },
     "metadata": {
      "needs_background": "light"
     },
     "output_type": "display_data"
    }
   ],
   "source": [
    "for i in range(3):\n",
    "    x = df[df['Species'] == species[i]]\n",
    "    plt.scatter(x['SepalWidthCm'], x['PetalWidthCm'], c = colors[i], label=species[i])\n",
    "plt.xlabel(\"Sepal Width\")\n",
    "plt.ylabel(\"Petal Width\")\n",
    "plt.legend()"
   ]
  },
  {
   "cell_type": "markdown",
   "id": "competitive-underground",
   "metadata": {
    "papermill": {
     "duration": 0.033448,
     "end_time": "2021-04-17T15:51:14.899685",
     "exception": false,
     "start_time": "2021-04-17T15:51:14.866237",
     "status": "completed"
    },
    "tags": []
   },
   "source": [
    "**Corelation Matrix**"
   ]
  },
  {
   "cell_type": "code",
   "execution_count": 17,
   "id": "athletic-assault",
   "metadata": {
    "execution": {
     "iopub.execute_input": "2021-04-17T15:51:14.967996Z",
     "iopub.status.busy": "2021-04-17T15:51:14.967384Z",
     "iopub.status.idle": "2021-04-17T15:51:14.970977Z",
     "shell.execute_reply": "2021-04-17T15:51:14.970441Z"
    },
    "papermill": {
     "duration": 0.043368,
     "end_time": "2021-04-17T15:51:14.971106",
     "exception": false,
     "start_time": "2021-04-17T15:51:14.927738",
     "status": "completed"
    },
    "tags": []
   },
   "outputs": [
    {
     "data": {
      "text/html": [
       "<div>\n",
       "<style scoped>\n",
       "    .dataframe tbody tr th:only-of-type {\n",
       "        vertical-align: middle;\n",
       "    }\n",
       "\n",
       "    .dataframe tbody tr th {\n",
       "        vertical-align: top;\n",
       "    }\n",
       "\n",
       "    .dataframe thead th {\n",
       "        text-align: right;\n",
       "    }\n",
       "</style>\n",
       "<table border=\"1\" class=\"dataframe\">\n",
       "  <thead>\n",
       "    <tr style=\"text-align: right;\">\n",
       "      <th></th>\n",
       "      <th>SepalLengthCm</th>\n",
       "      <th>SepalWidthCm</th>\n",
       "      <th>PetalLengthCm</th>\n",
       "      <th>PetalWidthCm</th>\n",
       "    </tr>\n",
       "  </thead>\n",
       "  <tbody>\n",
       "    <tr>\n",
       "      <th>SepalLengthCm</th>\n",
       "      <td>1.000000</td>\n",
       "      <td>-0.109369</td>\n",
       "      <td>0.871754</td>\n",
       "      <td>0.817954</td>\n",
       "    </tr>\n",
       "    <tr>\n",
       "      <th>SepalWidthCm</th>\n",
       "      <td>-0.109369</td>\n",
       "      <td>1.000000</td>\n",
       "      <td>-0.420516</td>\n",
       "      <td>-0.356544</td>\n",
       "    </tr>\n",
       "    <tr>\n",
       "      <th>PetalLengthCm</th>\n",
       "      <td>0.871754</td>\n",
       "      <td>-0.420516</td>\n",
       "      <td>1.000000</td>\n",
       "      <td>0.962757</td>\n",
       "    </tr>\n",
       "    <tr>\n",
       "      <th>PetalWidthCm</th>\n",
       "      <td>0.817954</td>\n",
       "      <td>-0.356544</td>\n",
       "      <td>0.962757</td>\n",
       "      <td>1.000000</td>\n",
       "    </tr>\n",
       "  </tbody>\n",
       "</table>\n",
       "</div>"
      ],
      "text/plain": [
       "               SepalLengthCm  SepalWidthCm  PetalLengthCm  PetalWidthCm\n",
       "SepalLengthCm       1.000000     -0.109369       0.871754      0.817954\n",
       "SepalWidthCm       -0.109369      1.000000      -0.420516     -0.356544\n",
       "PetalLengthCm       0.871754     -0.420516       1.000000      0.962757\n",
       "PetalWidthCm        0.817954     -0.356544       0.962757      1.000000"
      ]
     },
     "execution_count": 17,
     "metadata": {},
     "output_type": "execute_result"
    }
   ],
   "source": [
    "df.corr()"
   ]
  },
  {
   "cell_type": "code",
   "execution_count": 18,
   "id": "certified-brake",
   "metadata": {
    "execution": {
     "iopub.execute_input": "2021-04-17T15:51:15.053896Z",
     "iopub.status.busy": "2021-04-17T15:51:15.049392Z",
     "iopub.status.idle": "2021-04-17T15:51:15.302357Z",
     "shell.execute_reply": "2021-04-17T15:51:15.302778Z"
    },
    "papermill": {
     "duration": 0.304196,
     "end_time": "2021-04-17T15:51:15.302949",
     "exception": false,
     "start_time": "2021-04-17T15:51:14.998753",
     "status": "completed"
    },
    "tags": []
   },
   "outputs": [
    {
     "data": {
      "text/plain": [
       "<AxesSubplot:>"
      ]
     },
     "execution_count": 18,
     "metadata": {},
     "output_type": "execute_result"
    },
    {
     "data": {
      "image/png": "[encoded data removed]",
      "text/plain": [
       "<Figure size 360x288 with 2 Axes>"
      ]
     },
     "metadata": {
      "needs_background": "light"
     },
     "output_type": "display_data"
    }
   ],
   "source": [
    "corr = df.corr()\n",
    "fig, ax = plt.subplots(figsize=(5,4))\n",
    "sns.heatmap(corr,annot=True,ax=ax,cmap='coolwarm')"
   ]
  },
  {
   "cell_type": "markdown",
   "id": "legitimate-harvey",
   "metadata": {
    "papermill": {
     "duration": 0.028585,
     "end_time": "2021-04-17T15:51:15.360384",
     "exception": false,
     "start_time": "2021-04-17T15:51:15.331799",
     "status": "completed"
    },
    "tags": []
   },
   "source": [
    "**Label Encoder**"
   ]
  },
  {
   "cell_type": "code",
   "execution_count": 19,
   "id": "younger-shirt",
   "metadata": {
    "execution": {
     "iopub.execute_input": "2021-04-17T15:51:15.423131Z",
     "iopub.status.busy": "2021-04-17T15:51:15.422362Z",
     "iopub.status.idle": "2021-04-17T15:51:15.576997Z",
     "shell.execute_reply": "2021-04-17T15:51:15.576467Z"
    },
    "papermill": {
     "duration": 0.187685,
     "end_time": "2021-04-17T15:51:15.577138",
     "exception": false,
     "start_time": "2021-04-17T15:51:15.389453",
     "status": "completed"
    },
    "tags": []
   },
   "outputs": [],
   "source": [
    "from sklearn.preprocessing import LabelEncoder\n",
    "le = LabelEncoder()"
   ]
  },
  {
   "cell_type": "code",
   "execution_count": 20,
   "id": "allied-experience",
   "metadata": {
    "execution": {
     "iopub.execute_input": "2021-04-17T15:51:15.648127Z",
     "iopub.status.busy": "2021-04-17T15:51:15.647451Z",
     "iopub.status.idle": "2021-04-17T15:51:15.651866Z",
     "shell.execute_reply": "2021-04-17T15:51:15.651285Z"
    },
    "papermill": {
     "duration": 0.045481,
     "end_time": "2021-04-17T15:51:15.652003",
     "exception": false,
     "start_time": "2021-04-17T15:51:15.606522",
     "status": "completed"
    },
    "tags": []
   },
   "outputs": [
    {
     "data": {
      "text/html": [
       "<div>\n",
       "<style scoped>\n",
       "    .dataframe tbody tr th:only-of-type {\n",
       "        vertical-align: middle;\n",
       "    }\n",
       "\n",
       "    .dataframe tbody tr th {\n",
       "        vertical-align: top;\n",
       "    }\n",
       "\n",
       "    .dataframe thead th {\n",
       "        text-align: right;\n",
       "    }\n",
       "</style>\n",
       "<table border=\"1\" class=\"dataframe\">\n",
       "  <thead>\n",
       "    <tr style=\"text-align: right;\">\n",
       "      <th></th>\n",
       "      <th>SepalLengthCm</th>\n",
       "      <th>SepalWidthCm</th>\n",
       "      <th>PetalLengthCm</th>\n",
       "      <th>PetalWidthCm</th>\n",
       "      <th>Species</th>\n",
       "    </tr>\n",
       "  </thead>\n",
       "  <tbody>\n",
       "    <tr>\n",
       "      <th>0</th>\n",
       "      <td>5.1</td>\n",
       "      <td>3.5</td>\n",
       "      <td>1.4</td>\n",
       "      <td>0.2</td>\n",
       "      <td>0</td>\n",
       "    </tr>\n",
       "    <tr>\n",
       "      <th>1</th>\n",
       "      <td>4.9</td>\n",
       "      <td>3.0</td>\n",
       "      <td>1.4</td>\n",
       "      <td>0.2</td>\n",
       "      <td>0</td>\n",
       "    </tr>\n",
       "    <tr>\n",
       "      <th>2</th>\n",
       "      <td>4.7</td>\n",
       "      <td>3.2</td>\n",
       "      <td>1.3</td>\n",
       "      <td>0.2</td>\n",
       "      <td>0</td>\n",
       "    </tr>\n",
       "    <tr>\n",
       "      <th>3</th>\n",
       "      <td>4.6</td>\n",
       "      <td>3.1</td>\n",
       "      <td>1.5</td>\n",
       "      <td>0.2</td>\n",
       "      <td>0</td>\n",
       "    </tr>\n",
       "    <tr>\n",
       "      <th>4</th>\n",
       "      <td>5.0</td>\n",
       "      <td>3.6</td>\n",
       "      <td>1.4</td>\n",
       "      <td>0.2</td>\n",
       "      <td>0</td>\n",
       "    </tr>\n",
       "  </tbody>\n",
       "</table>\n",
       "</div>"
      ],
      "text/plain": [
       "   SepalLengthCm  SepalWidthCm  PetalLengthCm  PetalWidthCm  Species\n",
       "0            5.1           3.5            1.4           0.2        0\n",
       "1            4.9           3.0            1.4           0.2        0\n",
       "2            4.7           3.2            1.3           0.2        0\n",
       "3            4.6           3.1            1.5           0.2        0\n",
       "4            5.0           3.6            1.4           0.2        0"
      ]
     },
     "execution_count": 20,
     "metadata": {},
     "output_type": "execute_result"
    }
   ],
   "source": [
    "df['Species'] = le.fit_transform(df['Species'])\n",
    "df.head()"
   ]
  },
  {
   "cell_type": "markdown",
   "id": "revised-pattern",
   "metadata": {
    "papermill": {
     "duration": 0.029776,
     "end_time": "2021-04-17T15:51:15.711126",
     "exception": false,
     "start_time": "2021-04-17T15:51:15.681350",
     "status": "completed"
    },
    "tags": []
   },
   "source": [
    "**Model Training**"
   ]
  },
  {
   "cell_type": "code",
   "execution_count": 21,
   "id": "electronic-consumption",
   "metadata": {
    "execution": {
     "iopub.execute_input": "2021-04-17T15:51:15.775458Z",
     "iopub.status.busy": "2021-04-17T15:51:15.774757Z",
     "iopub.status.idle": "2021-04-17T15:51:15.833987Z",
     "shell.execute_reply": "2021-04-17T15:51:15.833385Z"
    },
    "papermill": {
     "duration": 0.093612,
     "end_time": "2021-04-17T15:51:15.834183",
     "exception": false,
     "start_time": "2021-04-17T15:51:15.740571",
     "status": "completed"
    },
    "tags": []
   },
   "outputs": [],
   "source": [
    "from sklearn.model_selection import train_test_split\n",
    "#train-70, test-30\n",
    "x = df.drop(columns=['Species'])\n",
    "y = df['Species']\n",
    "x_train, x_test, y_train, y_test = train_test_split(x,y,test_size=0.30)"
   ]
  },
  {
   "cell_type": "code",
   "execution_count": 22,
   "id": "stupid-administrator",
   "metadata": {
    "execution": {
     "iopub.execute_input": "2021-04-17T15:51:15.899547Z",
     "iopub.status.busy": "2021-04-17T15:51:15.898930Z",
     "iopub.status.idle": "2021-04-17T15:51:16.084716Z",
     "shell.execute_reply": "2021-04-17T15:51:16.084175Z"
    },
    "papermill": {
     "duration": 0.221202,
     "end_time": "2021-04-17T15:51:16.084858",
     "exception": false,
     "start_time": "2021-04-17T15:51:15.863656",
     "status": "completed"
    },
    "tags": []
   },
   "outputs": [],
   "source": [
    "from sklearn.linear_model import LogisticRegression\n",
    "model = LogisticRegression()"
   ]
  },
  {
   "cell_type": "code",
   "execution_count": 23,
   "id": "classified-dylan",
   "metadata": {
    "execution": {
     "iopub.execute_input": "2021-04-17T15:51:16.153641Z",
     "iopub.status.busy": "2021-04-17T15:51:16.152740Z",
     "iopub.status.idle": "2021-04-17T15:51:16.183232Z",
     "shell.execute_reply": "2021-04-17T15:51:16.182620Z"
    },
    "papermill": {
     "duration": 0.068321,
     "end_time": "2021-04-17T15:51:16.183373",
     "exception": false,
     "start_time": "2021-04-17T15:51:16.115052",
     "status": "completed"
    },
    "tags": []
   },
   "outputs": [
    {
     "data": {
      "text/plain": [
       "LogisticRegression()"
      ]
     },
     "execution_count": 23,
     "metadata": {},
     "output_type": "execute_result"
    }
   ],
   "source": [
    "model.fit(x_train,y_train)"
   ]
  },
  {
   "cell_type": "code",
   "execution_count": 24,
   "id": "systematic-decline",
   "metadata": {
    "execution": {
     "iopub.execute_input": "2021-04-17T15:51:16.250103Z",
     "iopub.status.busy": "2021-04-17T15:51:16.249510Z",
     "iopub.status.idle": "2021-04-17T15:51:16.252558Z",
     "shell.execute_reply": "2021-04-17T15:51:16.253022Z"
    },
    "papermill": {
     "duration": 0.039892,
     "end_time": "2021-04-17T15:51:16.253180",
     "exception": false,
     "start_time": "2021-04-17T15:51:16.213288",
     "status": "completed"
    },
    "tags": []
   },
   "outputs": [
    {
     "name": "stdout",
     "output_type": "stream",
     "text": [
      "Accuracy:  93.33333333333333\n"
     ]
    }
   ],
   "source": [
    "#print metric to get performance\n",
    "print(\"Accuracy: \",model.score(x_test,y_test)*100)"
   ]
  },
  {
   "cell_type": "code",
   "execution_count": 25,
   "id": "friendly-scale",
   "metadata": {
    "execution": {
     "iopub.execute_input": "2021-04-17T15:51:16.317335Z",
     "iopub.status.busy": "2021-04-17T15:51:16.316768Z",
     "iopub.status.idle": "2021-04-17T15:51:16.380810Z",
     "shell.execute_reply": "2021-04-17T15:51:16.380226Z"
    },
    "papermill": {
     "duration": 0.097869,
     "end_time": "2021-04-17T15:51:16.380955",
     "exception": false,
     "start_time": "2021-04-17T15:51:16.283086",
     "status": "completed"
    },
    "tags": []
   },
   "outputs": [],
   "source": [
    "from sklearn.neighbors import KNeighborsClassifier\n",
    "model = KNeighborsClassifier()"
   ]
  },
  {
   "cell_type": "code",
   "execution_count": 26,
   "id": "noticed-title",
   "metadata": {
    "execution": {
     "iopub.execute_input": "2021-04-17T15:51:16.450107Z",
     "iopub.status.busy": "2021-04-17T15:51:16.449321Z",
     "iopub.status.idle": "2021-04-17T15:51:16.452270Z",
     "shell.execute_reply": "2021-04-17T15:51:16.452725Z"
    },
    "papermill": {
     "duration": 0.041472,
     "end_time": "2021-04-17T15:51:16.452889",
     "exception": false,
     "start_time": "2021-04-17T15:51:16.411417",
     "status": "completed"
    },
    "tags": []
   },
   "outputs": [
    {
     "data": {
      "text/plain": [
       "KNeighborsClassifier()"
      ]
     },
     "execution_count": 26,
     "metadata": {},
     "output_type": "execute_result"
    }
   ],
   "source": [
    "model.fit(x_train,y_train)"
   ]
  },
  {
   "cell_type": "code",
   "execution_count": 27,
   "id": "certain-tunnel",
   "metadata": {
    "execution": {
     "iopub.execute_input": "2021-04-17T15:51:16.519142Z",
     "iopub.status.busy": "2021-04-17T15:51:16.518546Z",
     "iopub.status.idle": "2021-04-17T15:51:16.527948Z",
     "shell.execute_reply": "2021-04-17T15:51:16.528622Z"
    },
    "papermill": {
     "duration": 0.045324,
     "end_time": "2021-04-17T15:51:16.528879",
     "exception": false,
     "start_time": "2021-04-17T15:51:16.483555",
     "status": "completed"
    },
    "tags": []
   },
   "outputs": [
    {
     "name": "stdout",
     "output_type": "stream",
     "text": [
      "Accuracy:  95.55555555555556\n"
     ]
    }
   ],
   "source": [
    "# print metric to get performance\n",
    "print(\"Accuracy: \",model.score(x_test, y_test) * 100)"
   ]
  },
  {
   "cell_type": "code",
   "execution_count": 28,
   "id": "italic-creator",
   "metadata": {
    "execution": {
     "iopub.execute_input": "2021-04-17T15:51:16.595319Z",
     "iopub.status.busy": "2021-04-17T15:51:16.594438Z",
     "iopub.status.idle": "2021-04-17T15:51:16.635139Z",
     "shell.execute_reply": "2021-04-17T15:51:16.634457Z"
    },
    "papermill": {
     "duration": 0.074634,
     "end_time": "2021-04-17T15:51:16.635347",
     "exception": false,
     "start_time": "2021-04-17T15:51:16.560713",
     "status": "completed"
    },
    "tags": []
   },
   "outputs": [],
   "source": [
    "#decision tree\n",
    "from sklearn.tree import DecisionTreeClassifier\n",
    "model = DecisionTreeClassifier()"
   ]
  },
  {
   "cell_type": "code",
   "execution_count": 29,
   "id": "tender-bookmark",
   "metadata": {
    "execution": {
     "iopub.execute_input": "2021-04-17T15:51:16.704734Z",
     "iopub.status.busy": "2021-04-17T15:51:16.700363Z",
     "iopub.status.idle": "2021-04-17T15:51:16.709868Z",
     "shell.execute_reply": "2021-04-17T15:51:16.709404Z"
    },
    "papermill": {
     "duration": 0.043696,
     "end_time": "2021-04-17T15:51:16.710008",
     "exception": false,
     "start_time": "2021-04-17T15:51:16.666312",
     "status": "completed"
    },
    "tags": []
   },
   "outputs": [
    {
     "data": {
      "text/plain": [
       "DecisionTreeClassifier()"
      ]
     },
     "execution_count": 29,
     "metadata": {},
     "output_type": "execute_result"
    }
   ],
   "source": [
    "model.fit(x_train,y_train)"
   ]
  },
  {
   "cell_type": "code",
   "execution_count": 30,
   "id": "growing-somalia",
   "metadata": {
    "execution": {
     "iopub.execute_input": "2021-04-17T15:51:16.780616Z",
     "iopub.status.busy": "2021-04-17T15:51:16.779758Z",
     "iopub.status.idle": "2021-04-17T15:51:16.782653Z",
     "shell.execute_reply": "2021-04-17T15:51:16.783098Z"
    },
    "papermill": {
     "duration": 0.041805,
     "end_time": "2021-04-17T15:51:16.783251",
     "exception": false,
     "start_time": "2021-04-17T15:51:16.741446",
     "status": "completed"
    },
    "tags": []
   },
   "outputs": [
    {
     "name": "stdout",
     "output_type": "stream",
     "text": [
      "Accuracy:  93.33333333333333\n"
     ]
    }
   ],
   "source": [
    "# print metric to get performance\n",
    "print(\"Accuracy: \",model.score(x_test, y_test) * 100)"
   ]
  },
  {
   "cell_type": "code",
   "execution_count": null,
   "id": "subtle-zoning",
   "metadata": {
    "papermill": {
     "duration": 0.031915,
     "end_time": "2021-04-17T15:51:16.846744",
     "exception": false,
     "start_time": "2021-04-17T15:51:16.814829",
     "status": "completed"
    },
    "tags": []
   },
   "outputs": [],
   "source": []
  }
 ],
 "metadata": {
  "kernelspec": {
   "display_name": "Python 3",
   "language": "python",
   "name": "python3"
  },
  "language_info": {
   "codemirror_mode": {
    "name": "ipython",
    "version": 3
   },
   "file_extension": ".py",
   "mimetype": "text/x-python",
   "name": "python",
   "nbconvert_exporter": "python",
   "pygments_lexer": "ipython3",
   "version": "3.7.9"
  },
  "papermill": {
   "default_parameters": {},
   "duration": 11.643551,
   "end_time": "2021-04-17T15:51:17.592797",
   "environment_variables": {},
   "exception": null,
   "input_path": "__notebook__.ipynb",
   "output_path": "__notebook__.ipynb",
   "parameters": {},
   "start_time": "2021-04-17T15:51:05.949246",
   "version": "2.3.2"
  }
 },
 "nbformat": 4,
 "nbformat_minor": 5
}
